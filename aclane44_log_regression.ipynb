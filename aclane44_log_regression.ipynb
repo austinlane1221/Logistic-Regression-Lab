{
  "nbformat": 4,
  "nbformat_minor": 0,
  "metadata": {
    "colab": {
      "provenance": []
    },
    "kernelspec": {
      "name": "python3",
      "display_name": "Python 3"
    },
    "language_info": {
      "name": "python"
    }
  },
  "cells": [
    {
      "cell_type": "markdown",
      "source": [
        "# Step 1, Import Libraries and Load"
      ],
      "metadata": {
        "id": "qM1aRJvyEFYZ"
      }
    },
    {
      "cell_type": "code",
      "execution_count": null,
      "metadata": {
        "id": "7Ry9LcA6ZqPQ"
      },
      "outputs": [],
      "source": [
        "#Data manip\n",
        "import pandas as pd\n",
        "import numpy as np\n",
        "\n",
        "#plotting\n",
        "import matplotlib as mpl\n",
        "import matplotlib.pyplot as plt\n",
        "\n",
        "#tools\n",
        "from scipy.optimize import minimize\n",
        "from sklearn.preprocessing import PolynomialFeatures"
      ]
    },
    {
      "cell_type": "code",
      "source": [
        "def loaddata(file, delimeter):\n",
        "    data = np.loadtxt(file, delimiter=delimeter)\n",
        "    print('Dimensions: ',data.shape)\n",
        "    print(data[1:6,:])\n",
        "    return(data)"
      ],
      "metadata": {
        "id": "Wi0UZzSeaJxk"
      },
      "execution_count": null,
      "outputs": []
    },
    {
      "cell_type": "code",
      "source": [
        "data = loaddata('Dataset-2.txt', ',')"
      ],
      "metadata": {
        "id": "U_uRAqEGaMEW",
        "colab": {
          "base_uri": "https://localhost:8080/"
        },
        "outputId": "2a35d78e-787e-42b8-90d6-364258a1decb"
      },
      "execution_count": null,
      "outputs": [
        {
          "output_type": "stream",
          "name": "stdout",
          "text": [
            "Dimensions:  (118, 3)\n",
            "[[-0.092742  0.68494   1.      ]\n",
            " [-0.21371   0.69225   1.      ]\n",
            " [-0.375     0.50219   1.      ]\n",
            " [-0.51325   0.46564   1.      ]\n",
            " [-0.52477   0.2098    1.      ]]\n"
          ]
        }
      ]
    },
    {
      "cell_type": "markdown",
      "source": [
        "# Step 2, plot the intial data"
      ],
      "metadata": {
        "id": "jSF_jz1TEU3B"
      }
    },
    {
      "cell_type": "code",
      "source": [
        "def plotData(data, label_x, label_y, label_pos, label_neg, axes=None):\n",
        "    # Get indexes for class 0 and class 1\n",
        "    neg = data[:,2] == 0\n",
        "    pos = data[:,2] == 1\n",
        "\n",
        "    # If no specific axes object has been passed, get the current axes.\n",
        "    if axes == None:\n",
        "        axes = plt.gca()\n",
        "    axes.scatter(data[pos][:,0], data[pos][:,1], marker='+', c='k', s=60, linewidth=2, label=label_pos)\n",
        "    axes.scatter(data[neg][:,0], data[neg][:,1], c='y', s=60, label=label_neg)\n",
        "    axes.set_xlabel(label_x)\n",
        "    axes.set_ylabel(label_y)\n",
        "    axes.legend(frameon= True, fancybox = True);"
      ],
      "metadata": {
        "id": "l1jVacpwaOtd"
      },
      "execution_count": null,
      "outputs": []
    },
    {
      "cell_type": "code",
      "source": [
        "plotData(data, \"Test1\", \"Test2\", \"Accepted\", \"Rejected\")"
      ],
      "metadata": {
        "id": "bTsLyd6oaY37",
        "colab": {
          "base_uri": "https://localhost:8080/",
          "height": 279
        },
        "outputId": "057d8ce0-24bc-4787-d601-c163e53231ae"
      },
      "execution_count": null,
      "outputs": [
        {
          "output_type": "display_data",
          "data": {
            "text/plain": [
              "<Figure size 432x288 with 1 Axes>"
            ],
            "image/png": "[encoded data removed]"
          },
          "metadata": {
            "needs_background": "light"
          }
        }
      ]
    },
    {
      "cell_type": "markdown",
      "source": [
        "**Can this dataset be separated into positive and negative examples by a linear decision\n",
        "boundary?** No, the data is not linearably seperable. Meaning we can't put a line straight through this data set and it would separate our accepted values and rejected values."
      ],
      "metadata": {
        "id": "c1SI17eYhvF6"
      }
    },
    {
      "cell_type": "markdown",
      "source": [
        "# Step 3, Editing functions and getting new variables"
      ],
      "metadata": {
        "id": "sYbr_samEf3F"
      }
    },
    {
      "cell_type": "code",
      "source": [
        "X = np.c_[data[:,0:2]]\n",
        "y = np.c_[data[:,2]]"
      ],
      "metadata": {
        "id": "Y2hqRy5ScAzk"
      },
      "execution_count": null,
      "outputs": []
    },
    {
      "cell_type": "code",
      "source": [
        "poly = PolynomialFeatures(6)\n",
        "poly_feat = poly.fit_transform(X)\n",
        "#poly = PolynomialFeatures(interaction_only = True)\n",
        "#poly.fit_transform(X)\n",
        "print(poly_feat)"
      ],
      "metadata": {
        "id": "9KTbS6PcdWVM",
        "colab": {
          "base_uri": "https://localhost:8080/"
        },
        "outputId": "a3f1ce65-8cec-4ca1-94a2-949e7f997bf4"
      },
      "execution_count": null,
      "outputs": [
        {
          "output_type": "stream",
          "name": "stdout",
          "text": [
            "[[ 1.00000000e+00  5.12670000e-02  6.99560000e-01 ...  6.29470940e-04\n",
            "   8.58939846e-03  1.17205992e-01]\n",
            " [ 1.00000000e+00 -9.27420000e-02  6.84940000e-01 ...  1.89305413e-03\n",
            "  -1.39810280e-02  1.03255971e-01]\n",
            " [ 1.00000000e+00 -2.13710000e-01  6.92250000e-01 ...  1.04882142e-02\n",
            "  -3.39734512e-02  1.10046893e-01]\n",
            " ...\n",
            " [ 1.00000000e+00 -4.84450000e-01  9.99270000e-01 ...  2.34007252e-01\n",
            "  -4.82684337e-01  9.95627986e-01]\n",
            " [ 1.00000000e+00 -6.33640000e-03  9.99270000e-01 ...  4.00328554e-05\n",
            "  -6.31330588e-03  9.95627986e-01]\n",
            " [ 1.00000000e+00  6.32650000e-01 -3.06120000e-02 ...  3.51474517e-07\n",
            "  -1.70067777e-08  8.22905998e-10]]\n"
          ]
        }
      ]
    },
    {
      "cell_type": "markdown",
      "source": [
        "Here I am using sckit learn's polynomial features built in function with a degree of 6."
      ],
      "metadata": {
        "id": "5uDgjXCCFGIL"
      }
    },
    {
      "cell_type": "code",
      "source": [
        "def sigmoid(z):\n",
        "    z = np.clip(z, -500, 500)\n",
        "    return(1 / (1 + np.exp(-z)))"
      ],
      "metadata": {
        "id": "dhr9gO0jedjh"
      },
      "execution_count": null,
      "outputs": []
    },
    {
      "cell_type": "code",
      "source": [
        "sigmoid(0)"
      ],
      "metadata": {
        "colab": {
          "base_uri": "https://localhost:8080/"
        },
        "id": "e-AAvUPiov6Z",
        "outputId": "21d54c2a-b8f7-432b-e597-3ce383f4478e"
      },
      "execution_count": null,
      "outputs": [
        {
          "output_type": "execute_result",
          "data": {
            "text/plain": [
              "0.5"
            ]
          },
          "metadata": {},
          "execution_count": 118
        }
      ]
    },
    {
      "cell_type": "code",
      "source": [
        "def costFunction(theta, X, y, lamb):\n",
        "    m = y.size\n",
        "    f = sigmoid(X.dot(theta))\n",
        "\n",
        "    J = -1*(1/m)*(np.log(f).T.dot(y)+np.log(1-f).T.dot(1-y))\n",
        "    #add regularization\n",
        "    reg = (lamb/ (2*m)) * np.sum(np.square(theta[1:]))\n",
        "\n",
        "    if np.isnan(J[0]):\n",
        "        return(np.inf)\n",
        "    return(J[0])"
      ],
      "metadata": {
        "id": "1oyhhuyUejXL"
      },
      "execution_count": null,
      "outputs": []
    },
    {
      "cell_type": "code",
      "source": [
        "def gradient(theta, X, y, lamb):\n",
        "    m = y.size\n",
        "    f = sigmoid(X.dot(theta.reshape(-1,1)))\n",
        "    reg = (lamb / (m)) * np.r_[[[0]], theta[1:].reshape(-1,1)]\n",
        "\n",
        "    grad = (1/m)*poly_feat.T.dot(f-y) + reg\n",
        "\n",
        "    return(grad.flatten())"
      ],
      "metadata": {
        "id": "VC6TXH1qhpeC"
      },
      "execution_count": null,
      "outputs": []
    },
    {
      "cell_type": "markdown",
      "source": [
        "Updating the cost and gradient functions to include the equations that were discussed in class."
      ],
      "metadata": {
        "id": "68SPYAylFVG2"
      }
    },
    {
      "cell_type": "code",
      "source": [
        "initial_theta = np.zeros(poly_feat.shape[1])\n",
        "lamb = 0\n",
        "cost = costFunction(initial_theta, poly_feat, y, lamb)\n",
        "grad = gradient(initial_theta, poly_feat, y, lamb)\n",
        "print('Cost: \\n', cost)\n",
        "print('Grad: \\n', grad)\n",
        "opt_theta_zero = minimize(costFunction, initial_theta, args=(poly_feat, y, lamb), method=None, jac=gradient, options={'maxiter':400})"
      ],
      "metadata": {
        "id": "REIPY1SKhRmT",
        "colab": {
          "base_uri": "https://localhost:8080/"
        },
        "outputId": "3c4ef7fe-5741-47a9-a541-c5ab7264a684"
      },
      "execution_count": null,
      "outputs": [
        {
          "output_type": "stream",
          "name": "stdout",
          "text": [
            "Cost: \n",
            " 0.6931471805599454\n",
            "Grad: \n",
            " [8.47457627e-03 1.87880932e-02 7.77711864e-05 5.03446395e-02\n",
            " 1.15013308e-02 3.76648474e-02 1.83559872e-02 7.32393391e-03\n",
            " 8.19244468e-03 2.34764889e-02 3.93486234e-02 2.23923907e-03\n",
            " 1.28600503e-02 3.09593720e-03 3.93028171e-02 1.99707467e-02\n",
            " 4.32983232e-03 3.38643902e-03 5.83822078e-03 4.47629067e-03\n",
            " 3.10079849e-02 3.10312442e-02 1.09740238e-03 6.31570797e-03\n",
            " 4.08503006e-04 7.26504316e-03 1.37646175e-03 3.87936363e-02]\n"
          ]
        }
      ]
    },
    {
      "cell_type": "code",
      "source": [
        "initial_theta = np.zeros(poly_feat.shape[1])\n",
        "lamb = 1\n",
        "cost = costFunction(initial_theta, poly_feat, y, lamb)\n",
        "grad = gradient(initial_theta, poly_feat, y, lamb)\n",
        "print('Cost: \\n', cost)\n",
        "print('Grad: \\n', grad)\n",
        "opt_theta_one = minimize(costFunction, initial_theta, args=(poly_feat, y, lamb), method=None, jac=gradient, options={'maxiter':400})"
      ],
      "metadata": {
        "colab": {
          "base_uri": "https://localhost:8080/"
        },
        "id": "SUhWvgSKPCcX",
        "outputId": "f3f05985-9876-407e-a5bc-4755ac4abe84"
      },
      "execution_count": null,
      "outputs": [
        {
          "output_type": "stream",
          "name": "stdout",
          "text": [
            "Cost: \n",
            " 0.6931471805599454\n",
            "Grad: \n",
            " [8.47457627e-03 1.87880932e-02 7.77711864e-05 5.03446395e-02\n",
            " 1.15013308e-02 3.76648474e-02 1.83559872e-02 7.32393391e-03\n",
            " 8.19244468e-03 2.34764889e-02 3.93486234e-02 2.23923907e-03\n",
            " 1.28600503e-02 3.09593720e-03 3.93028171e-02 1.99707467e-02\n",
            " 4.32983232e-03 3.38643902e-03 5.83822078e-03 4.47629067e-03\n",
            " 3.10079849e-02 3.10312442e-02 1.09740238e-03 6.31570797e-03\n",
            " 4.08503006e-04 7.26504316e-03 1.37646175e-03 3.87936363e-02]\n"
          ]
        }
      ]
    },
    {
      "cell_type": "code",
      "source": [
        "initial_theta = np.zeros(poly_feat.shape[1])\n",
        "lamb = 100\n",
        "cost = costFunction(initial_theta, poly_feat, y, lamb)\n",
        "grad = gradient(initial_theta, poly_feat, y, lamb)\n",
        "print('Cost: \\n', cost)\n",
        "print('Grad: \\n', grad)\n",
        "opt_theta_onehundred = minimize(costFunction, initial_theta, args=(poly_feat, y, lamb), method=None, jac=gradient, options={'maxiter':400})"
      ],
      "metadata": {
        "colab": {
          "base_uri": "https://localhost:8080/"
        },
        "id": "70H1Hj6BPFdd",
        "outputId": "00a71d6e-d5c3-487e-cee0-e664fd5e0ef5"
      },
      "execution_count": null,
      "outputs": [
        {
          "output_type": "stream",
          "name": "stdout",
          "text": [
            "Cost: \n",
            " 0.6931471805599454\n",
            "Grad: \n",
            " [8.47457627e-03 1.87880932e-02 7.77711864e-05 5.03446395e-02\n",
            " 1.15013308e-02 3.76648474e-02 1.83559872e-02 7.32393391e-03\n",
            " 8.19244468e-03 2.34764889e-02 3.93486234e-02 2.23923907e-03\n",
            " 1.28600503e-02 3.09593720e-03 3.93028171e-02 1.99707467e-02\n",
            " 4.32983232e-03 3.38643902e-03 5.83822078e-03 4.47629067e-03\n",
            " 3.10079849e-02 3.10312442e-02 1.09740238e-03 6.31570797e-03\n",
            " 4.08503006e-04 7.26504316e-03 1.37646175e-03 3.87936363e-02]\n"
          ]
        }
      ]
    },
    {
      "cell_type": "code",
      "source": [
        "def classify(theta, X, threshold=0.5):\n",
        "    p = sigmoid(X.dot(theta.T)) >= threshold\n",
        "    return(p.astype('int'))"
      ],
      "metadata": {
        "id": "Dj4OJg9cQQxQ"
      },
      "execution_count": null,
      "outputs": []
    },
    {
      "cell_type": "code",
      "source": [
        "p = classify(opt_theta_zero.x, poly_feat)\n",
        "print('Train accuracy for lambda = 0 {}%'.format(100*sum(p == y.ravel())/p.size))"
      ],
      "metadata": {
        "colab": {
          "base_uri": "https://localhost:8080/"
        },
        "id": "8AeIkyr8PeiD",
        "outputId": "5190b5b2-1551-4c96-e306-3989a2020e7a"
      },
      "execution_count": null,
      "outputs": [
        {
          "output_type": "stream",
          "name": "stdout",
          "text": [
            "Train accuracy for lambda = 0 88.13559322033899%\n"
          ]
        }
      ]
    },
    {
      "cell_type": "code",
      "source": [
        "p = classify(opt_theta_one.x, poly_feat)\n",
        "print('Train accuracy for lambda = 1 {}%'.format(100*sum(p == y.ravel())/p.size))"
      ],
      "metadata": {
        "id": "oGr06gOovn1B",
        "colab": {
          "base_uri": "https://localhost:8080/"
        },
        "outputId": "b2922107-3f0c-4049-eecd-7dd28d656e2c"
      },
      "execution_count": null,
      "outputs": [
        {
          "output_type": "stream",
          "name": "stdout",
          "text": [
            "Train accuracy for lambda = 1 82.20338983050847%\n"
          ]
        }
      ]
    },
    {
      "cell_type": "code",
      "source": [
        "p = classify(opt_theta_onehundred.x, poly_feat)\n",
        "print('Train accuracy for lambda = 100 {}%'.format(100*sum(p == y.ravel())/p.size))"
      ],
      "metadata": {
        "colab": {
          "base_uri": "https://localhost:8080/"
        },
        "id": "KNc8TciOCBJ6",
        "outputId": "a094e6e1-5c05-480e-9896-535fdb2865cd"
      },
      "execution_count": null,
      "outputs": [
        {
          "output_type": "stream",
          "name": "stdout",
          "text": [
            "Train accuracy for lambda = 100 66.10169491525424%\n"
          ]
        }
      ]
    },
    {
      "cell_type": "code",
      "source": [
        "\n",
        "plotData(data, 'Test 1 score', 'Test 2 score', 'Admitted', 'Not admitted')\n",
        "\n",
        "x1_min, x1_max = X[:,0].min(), X[:,0].max(),\n",
        "x2_min, x2_max = X[:,1].min(), X[:,1].max(),\n",
        "xx1, xx2 = np.meshgrid(np.linspace(x1_min, x1_max), np.linspace(x2_min, x2_max))\n",
        "f = sigmoid(poly.fit_transform(np.c_[xx1.ravel(), xx2.ravel()]).dot(opt_theta_zero.x))\n",
        "f = f.reshape(xx1.shape)\n",
        "plt.contour(xx1, xx2, f, [0.5], linewidths=1, colors='b');\n",
        "p = classify(opt_theta_zero.x, poly_feat)\n",
        "print('Train accuracy {}%'.format(100*sum(p == y.ravel())/p.size))"
      ],
      "metadata": {
        "colab": {
          "base_uri": "https://localhost:8080/",
          "height": 296
        },
        "id": "fzUkkCGPCF2b",
        "outputId": "1f6985b0-13c7-49f8-ce77-7fb84c41238c"
      },
      "execution_count": null,
      "outputs": [
        {
          "output_type": "stream",
          "name": "stdout",
          "text": [
            "Train accuracy 88.13559322033899%\n"
          ]
        },
        {
          "output_type": "display_data",
          "data": {
            "text/plain": [
              "<Figure size 432x288 with 1 Axes>"
            ],
            "image/png": "[encoded data removed]"
          },
          "metadata": {
            "needs_background": "light"
          }
        }
      ]
    },
    {
      "cell_type": "code",
      "source": [
        "\n",
        "plotData(data, 'Test 1 score', 'Test 2 score', 'Admitted', 'Not admitted')\n",
        "\n",
        "x1_min, x1_max = X[:,0].min(), X[:,0].max(),\n",
        "x2_min, x2_max = X[:,1].min(), X[:,1].max(),\n",
        "xx1, xx2 = np.meshgrid(np.linspace(x1_min, x1_max), np.linspace(x2_min, x2_max))\n",
        "f = sigmoid(poly.fit_transform(np.c_[xx1.ravel(), xx2.ravel()]).dot(opt_theta_one.x))\n",
        "f = f.reshape(xx1.shape)\n",
        "plt.contour(xx1, xx2, f, [0.5], linewidths=1, colors='b');\n",
        "p = classify(opt_theta_one.x, poly_feat)\n",
        "print('Train accuracy {}%'.format(100*sum(p == y.ravel())/p.size))"
      ],
      "metadata": {
        "colab": {
          "base_uri": "https://localhost:8080/",
          "height": 296
        },
        "id": "w5wR-l0yCPaB",
        "outputId": "b136b0f1-5190-49b7-f738-ab7a13b5ac65"
      },
      "execution_count": null,
      "outputs": [
        {
          "output_type": "stream",
          "name": "stdout",
          "text": [
            "Train accuracy 82.20338983050847%\n"
          ]
        },
        {
          "output_type": "display_data",
          "data": {
            "text/plain": [
              "<Figure size 432x288 with 1 Axes>"
            ],
            "image/png": "[encoded data removed]"
          },
          "metadata": {
            "needs_background": "light"
          }
        }
      ]
    },
    {
      "cell_type": "code",
      "source": [
        "\n",
        "plotData(data, 'Test 1 score', 'Test 2 score', 'Admitted', 'Not admitted')\n",
        "\n",
        "x1_min, x1_max = X[:,0].min(), X[:,0].max(),\n",
        "x2_min, x2_max = X[:,1].min(), X[:,1].max(),\n",
        "xx1, xx2 = np.meshgrid(np.linspace(x1_min, x1_max), np.linspace(x2_min, x2_max))\n",
        "f = sigmoid(poly.fit_transform(np.c_[xx1.ravel(), xx2.ravel()]).dot(opt_theta_onehundred.x))\n",
        "f = f.reshape(xx1.shape)\n",
        "plt.contour(xx1, xx2, f, [0.5], linewidths=1, colors='b');\n",
        "p = classify(opt_theta_onehundred.x, poly_feat)\n",
        "print('Train accuracy {}%'.format(100*sum(p == y.ravel())/p.size))"
      ],
      "metadata": {
        "colab": {
          "base_uri": "https://localhost:8080/",
          "height": 296
        },
        "id": "iIFsqSthQX9_",
        "outputId": "fea700d1-cbe8-4c23-ecee-b4663e20af3a"
      },
      "execution_count": null,
      "outputs": [
        {
          "output_type": "stream",
          "name": "stdout",
          "text": [
            "Train accuracy 66.10169491525424%\n"
          ]
        },
        {
          "output_type": "display_data",
          "data": {
            "text/plain": [
              "<Figure size 432x288 with 1 Axes>"
            ],
            "image/png": "[encoded data removed]"
          },
          "metadata": {
            "needs_background": "light"
          }
        }
      ]
    },
    {
      "cell_type": "markdown",
      "source": [
        "After implementing plots for each lambda value (zero, one, and 100) we can see that the training accuracy is higher when it is zero, and gets worse with a larger lambda value.\n",
        "When lambda = 0 we get train accuracy: 88%, lambda = 1 we get train accuracy: 82%, and lambda = 100 we get train accuracy: 66%."
      ],
      "metadata": {
        "id": "gpypX0f9C2D7"
      }
    }
  ]
}